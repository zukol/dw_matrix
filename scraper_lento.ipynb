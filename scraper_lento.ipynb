{
  "nbformat": 4,
  "nbformat_minor": 0,
  "metadata": {
    "colab": {
      "name": "scraper_lento.ipynb",
      "provenance": [],
      "mount_file_id": "1k2FmxTb0aSIRh4NmL_IcaXHkPtZjcIhF",
      "authorship_tag": "ABX9TyPPpbC40edgm3sntHOAnIdI",
      "include_colab_link": true
    },
    "kernelspec": {
      "name": "python3",
      "display_name": "Python 3"
    }
  },
  "cells": [
    {
      "cell_type": "markdown",
      "metadata": {
        "id": "view-in-github",
        "colab_type": "text"
      },
      "source": [
        "<a href=\"https://colab.research.google.com/github/zukol/dw_matrix/blob/master/scraper_lento.ipynb\" target=\"_parent\"><img src=\"https://colab.research.google.com/assets/colab-badge.svg\" alt=\"Open In Colab\"/></a>"
      ]
    },
    {
      "cell_type": "code",
      "metadata": {
        "id": "hR44ZZ_qCnPG",
        "colab_type": "code",
        "colab": {}
      },
      "source": [
        "import time\n",
        "import requests\n",
        "from slugify import slugify\n",
        "from bs4 import BeautifulSoup\n",
        "import json\n",
        "import pandas as pd\n"
      ],
      "execution_count": 0,
      "outputs": []
    },
    {
      "cell_type": "code",
      "metadata": {
        "id": "ctnp6w6CAAXb",
        "colab_type": "code",
        "outputId": "5d65a49b-6f59-49a6-892d-37702a917e77",
        "colab": {
          "base_uri": "https://localhost:8080/",
          "height": 463
        }
      },
      "source": [
        "class PageScrapper:\n",
        "\n",
        "    def __init__(self, url):\n",
        "\n",
        "        self.url = url\n",
        "        self.last_page = self.get_last_page_number() #pobiera ile jest stron z ogloszeniami\n",
        "\n",
        "        print(f\"Total number of pages: {self.last_page}\")\n",
        "\n",
        "    def get_last_page_number(self):\n",
        "        page = self.read_page_content(self.url)\n",
        "        last_page_element = page.find('span', {\"class\": \"hash number alike button\"}).get_text() #znajdujemy element span z klasa nazywajaca sie hash number alike button i pobieramy z tego tekst\n",
        "        return int(last_page_element)\n",
        "    \n",
        "\n",
        "    def find_advertisements(self):\n",
        "\n",
        "        for page_number in range(self.last_page + 1): #iterujemy od 1 od ostatniej strony\n",
        "\n",
        "            print(f\"Page {page_number+1}/{self.last_page} processing...\") # pokazuje na ktorej aktualnie stronie jetesmy\n",
        "\n",
        "            page = self.read_page_content(self.url + f'&page={page_number}') #dopisuje do adresu url kawalek adresu z nr strony\n",
        "            advertisements = page.findAll(\"a\", {\"class\": \"title-list-item\"}) #wyszukujemy wszystkie nazwy ogloszen\n",
        "\n",
        "            for advertisement_index in range(len(advertisements)):\n",
        "                data = self.parse_advertisement(advertisements[advertisement_index]['href']) #wchodzimy w petli pokolei w ogloszenia i czytamy tresc za pomaca parse_advertisement\n",
        "                print(data)\n",
        "                time.sleep(1) #przerwa 1s zeby nie zostac zablokowanym\n",
        "\n",
        "    def parse_advertisement(self, url):\n",
        "\n",
        "        data = {}\n",
        "\n",
        "        page = self.read_page_content(url)\n",
        "        container = page.find('div', {'class': 'container-fluid otherpage-container'}) #pobieramy cala strone ogloszenia, ale bez reklam, menu, itp\n",
        "\n",
        "        data['nazwa'] = container.find('h2').get_text().strip() #pobieramy nazwe ogloszenia za pomoca naglowka h2, metoda strip usuwa biale znaki\n",
        "        data['tresc'] = container.find('div', {'class': 'desc text-15'}).get_text().strip() #pobieramy tresc ogloszenia\n",
        "        data['cena'] = float(container.find('div', {'class': 'price'})\n",
        "                             .get_text().replace('zł', '').replace(' ', '').replace(',', '.')) #usuwamy zl spacje zastepujemy , na .\n",
        "\n",
        "        parameters = container.find('div', {'class': 'details text-15'}) #wskazujemy gdzie znajduja sie parametry\n",
        "\n",
        "        for li in parameters:\n",
        "            label = parameters.find('span', {'class': 'label'}) #dla kazdego elementu li odczytujemy label i value\n",
        "            value = parameters.find('span', {'class': 'row-old'})\n",
        "\n",
        "            if value is not None:\n",
        "                data[slugify(label.get_text())] = value.get_text() # biblioteka ktora tworzy adresy url z tytulow, usuwa polskie znaki itp\n",
        "\n",
        "        return data\n",
        "\n",
        "    def read_page_content(self, url):\n",
        "        page = requests.get(url)\n",
        "        return BeautifulSoup(page.content, \"html.parser\")\n",
        "\n",
        "    def save_data_json(self):\n",
        "      with open('data_lento.json', 'w') as f:\n",
        "        json.dump(self.find_advertisements, f)\n",
        "\n",
        "\n",
        "URL = 'https://gdansk.lento.pl/nieruchomosci/mieszkania.html?price_from=100000'\n",
        "scraper = PageScrapper(URL)\n",
        "scraper.find_advertisements()\n",
        "#scraper.save_data_json()"
      ],
      "execution_count": 79,
      "outputs": [
        {
          "output_type": "stream",
          "text": [
            "Total number of pages: 14\n",
            "Page 1/14 processing...\n",
            "{'nazwa': 'Mieszkanie Gdańsk Brzeźno, Łozy', 'tresc': 'Opis oferty:Na sprzedaż oferuję 2-pokojowe, komfortowe mieszkanie w nadmorskiej dzielnicy Gdańska - Brzeźnie.\\n\\nNieruchomość o powierzchni ponad 46 m2 mieści się  na drugim piętrze w pięciokondygnacyjnym bloku położonym w cichej i spokojnej okolicy.\\n\\nOdległość kilkuminutowego spaceru dzieli nas od licznych atrakcji nadmorskiego kurortu: licznych kawiarenek, restauracji, barów, parku Reagana oraz zadbanej plaży, wzdłuż której ciągnie się promenada z trasami rowerowymi oraz molo w Brzeźnie.\\n\\nMieszkanie po kapitalnym remoncie,nowocześnie zaaranżowane, pachnące jeszcze świeżością..\\n\\nW jego skład wchodzą:\\n-salon (20m2) z wyjściem na słoneczny balkon od strony płd-zach.\\n-sypialnia (11 m2)\\n-garderoba (2m2)\\n-łazienka z prysznicem (3 m2)\\n-kuchnia (6 m2) , \\n-przedpokój (4 m2)\\n\\nDo lokalu przynależy piwnica, a czynsz jest bardzo niski - całorocznie 350 zł.( miejskie ogrzewanie i woda). \\nBudynek z nową elewacją, ocieplony i zabezpieczony domofonem.\\nPod blokiem ogólnodostępny parking z dużą ilością miejsc oraz tereny zielone.\\n\\nW promieniu kilkuset metrów znajdują się wszelkie mozliwe udogodnienia: m.in. przychodnie, sklepy, szkoły, przedszkola, kompleks handlowy, place zabaw, parki, poczta, kościół, apteki.\\nWszystko to powoduje, iż można tu komfortowo zamieszkać, jak również doskonale ulokować kapitał.\\n\\nBliskie położenie przystanków tramwajowych i autobusowych oraz tunel pod Martwą Wisłą zapewnia doskonałą komunikację ( przykładowo dojazd do gdańskich uczelni to kwestia kilkunastu minut).\\n\\nPełna własność nieruchomości, czysta hipoteka. \\nLokal niezamieszkany, możliwość bezpiecznej prezentacji. \\nWydanie natychmiastowe.\\n\\nSzczególnie polecam i zapraszam na prezentację.\\n\\nPośrednikom dziękuję - nie podpisuję umów o współpracy.\\n\\n\\n\\n\\n\\n\\n\\nOferta dodana do wielu serwisu za pomocą serwisu bebroker.pl\\n\\nTelefon: 720 - pokaż numer telefonu - \\n\\n\\nNumer oferty: MS/6964', 'cena': 489000.0, 'kategoria': 'Mieszkania / Sprzedaż'}\n",
            "{'nazwa': 'Słoneczne mieszkanie Gdańsk Śródmieście - CENTRUM Miasta', 'tresc': 'Opis oferty:NOWA NIŻSZA CENA 490 000 zł\\n\\r\\nSłoneczne mieszkanie Gdańsk Śródmieście - CENTRUM Miasta \\n\\r\\n\\ufeffDoskonale skomunikowane 2 pokojowe mieszkanie w Centrum Gdańska, ciepłe i słoneczne od strony południowo – zachodniej, blisko Starówki (400 m).\\r\\nPiękna okolica na spacery pośród natury pomiędzy szczytami Bastionów Gdańska nad opływem rzeki Motławy (600 m).\\n\\r\\nPod samym domem: parking ogólnodostępny, przystanki autobusowe, parking strzeżony, Muzeum Narodowe, Park, Apteka, Optyk, Przychodnia Specjalistyczna, Szkoła Podstawowa, Urząd Wojewódzki Marszałkowski i Urząd Skarbowy.\\r\\nW okolicy 300 – 400 metrów: przystanki tramwajowe, Restauracja, Kawiarnia, 2 Kościoły, osiedlowe sklepy, rzeka Motława i przystań kajakowa Żabi Kruk, SKM Śródmieście,\\r\\n* 650 m - Centrum handlowe Forum Gdańsk.\\r\\n* 700 m - wjazd na obwodnicę Trójmiasta,\\r\\n* 750 m - Główne Miasto - Fontanna Neptuna, Ratusz Głównego Miasta,\\r\\n* 800 m - Urząd Miasta Gdańsk, Sąd Rejonowy i Okręgowy, Szpital, Banki.\\n\\r\\nBudynek z 1961 roku składający się z 10 kondygnacji z windą, ocieplony. Przed wejściem zainstalowany domofon, podjazd dla niepełnosprawnych, monitoring.\\r\\nMieszkanie usytuowane na drugim piętrze o powierzchni 50,14 m2, składające się z 2 pokoi, oddzielnej kuchni z oknem, łazienki i przedpokoju. Do mieszkania przynależy piwnica.\\r\\nPierwszy pokój – 11,52 m2, drugi (obecnie przedzielony na 2 mniejsze) – 23,84 m2 z wyjściem na zabudowany balkon o dodatkowej powierzchni 2,67 m2, kuchnia – 7,09 m2, łazienka – 3,62 m2, przedpokój – 4,52 m2.\\n\\r\\nW ostatnich latach mieszkanie inwestowane na bieżąco.\\r\\nOkna PCV, grzejniki panelowe, wymieniona instalacja gazowa, elektryka i hydraulika w kuchni i łazience. Nowe drzwi wejściowe antywłamaniowe, panelowe z zamkami Gerda.\\r\\n2 lata temu wyremontowana kuchnia. W łazience ścianka prysznicowa walk in z deszczownicą.\\r\\nOgrzewanie miejskie. W tym roku ma być doprowadzona bieżąca ciepła woda użytkowa i zostanie usunięty piecyk gazowy.\\n\\r\\nUkład mieszkania pozwala na aranżację do 3 osobnych pokoi, albo przerobienie oddzielnej kuchni na salon z aneksem z 2 pokojami.\\r\\nParking ogólnodostępny przed blokiem lub strzeżony 50 metrów dalej.\\r\\nCzynsz w sezonie letnim 190 zł i zimowym - 465 zł (bez wody i ścieków - zależy według zużycia) oraz fundusz remontowy 90,25 zł.\\r\\nMieszkanie do zamieszkania (odświeżenia) lub do własnej indywidualnej aranżacji.\\r\\nIstnieje możliwość kupna mieszkania z umeblowaniem oraz sprzętem AGD na gwarancji.\\n\\r\\nCena mieszkania bez umeblowania.\\r\\nŚwietna lokalizacja do zamieszkania, jak również pod inwestycję.\\n\\r\\nNa dodatkowe pytania chętnie odpowie Agent Nieruchomości i pomoże w czynnościach dotyczących zakupu. Kupujący nie płaci prowizji.\\n\\r\\nWkrótce wirtualny spacer\\n\\r\\nZapraszam do kontaktu', 'cena': 490000.0, 'kategoria': 'Mieszkania / Sprzedaż'}\n",
            "{'nazwa': 'Sprzedaż mieszkania', 'tresc': 'Opis oferty:Sprzedam mieszkanie 2-pokojowe w Gdańsku na ul.Wyzwolenia. Znajduje się na pierwszym w czteropiętrowym bloku. Jest ciepłe i przytulne. Z balkonem. Do mieszkania jest przynależna piwnica. Dogodna komunikacja miejska we wszystkich kierunkach. Blisko morza i parku w dzielnicy Brzeźno.', 'cena': 310000.0, 'kategoria': 'Mieszkania / Sprzedaż'}\n"
          ],
          "name": "stdout"
        },
        {
          "output_type": "error",
          "ename": "KeyboardInterrupt",
          "evalue": "ignored",
          "traceback": [
            "\u001b[0;31m---------------------------------------------------------------------------\u001b[0m",
            "\u001b[0;31mKeyboardInterrupt\u001b[0m                         Traceback (most recent call last)",
            "\u001b[0;32m<ipython-input-79-d7858bd87eb4>\u001b[0m in \u001b[0;36m<module>\u001b[0;34m()\u001b[0m\n\u001b[1;32m     62\u001b[0m \u001b[0mURL\u001b[0m \u001b[0;34m=\u001b[0m \u001b[0;34m'https://gdansk.lento.pl/nieruchomosci/mieszkania.html?price_from=100000'\u001b[0m\u001b[0;34m\u001b[0m\u001b[0;34m\u001b[0m\u001b[0m\n\u001b[1;32m     63\u001b[0m \u001b[0mscraper\u001b[0m \u001b[0;34m=\u001b[0m \u001b[0mPageScrapper\u001b[0m\u001b[0;34m(\u001b[0m\u001b[0mURL\u001b[0m\u001b[0;34m)\u001b[0m\u001b[0;34m\u001b[0m\u001b[0;34m\u001b[0m\u001b[0m\n\u001b[0;32m---> 64\u001b[0;31m \u001b[0mscraper\u001b[0m\u001b[0;34m.\u001b[0m\u001b[0mfind_advertisements\u001b[0m\u001b[0;34m(\u001b[0m\u001b[0;34m)\u001b[0m\u001b[0;34m\u001b[0m\u001b[0;34m\u001b[0m\u001b[0m\n\u001b[0m\u001b[1;32m     65\u001b[0m \u001b[0;31m#scraper.save_data_json()\u001b[0m\u001b[0;34m\u001b[0m\u001b[0;34m\u001b[0m\u001b[0;34m\u001b[0m\u001b[0m\n",
            "\u001b[0;32m<ipython-input-79-d7858bd87eb4>\u001b[0m in \u001b[0;36mfind_advertisements\u001b[0;34m(self)\u001b[0m\n\u001b[1;32m     26\u001b[0m                 \u001b[0mdata\u001b[0m \u001b[0;34m=\u001b[0m \u001b[0mself\u001b[0m\u001b[0;34m.\u001b[0m\u001b[0mparse_advertisement\u001b[0m\u001b[0;34m(\u001b[0m\u001b[0madvertisements\u001b[0m\u001b[0;34m[\u001b[0m\u001b[0madvertisement_index\u001b[0m\u001b[0;34m]\u001b[0m\u001b[0;34m[\u001b[0m\u001b[0;34m'href'\u001b[0m\u001b[0;34m]\u001b[0m\u001b[0;34m)\u001b[0m \u001b[0;31m#wchodzimy w petli pokolei w ogloszenia i czytamy tresc za pomaca parse_advertisement\u001b[0m\u001b[0;34m\u001b[0m\u001b[0;34m\u001b[0m\u001b[0m\n\u001b[1;32m     27\u001b[0m                 \u001b[0mprint\u001b[0m\u001b[0;34m(\u001b[0m\u001b[0mdata\u001b[0m\u001b[0;34m)\u001b[0m\u001b[0;34m\u001b[0m\u001b[0;34m\u001b[0m\u001b[0m\n\u001b[0;32m---> 28\u001b[0;31m                 \u001b[0mtime\u001b[0m\u001b[0;34m.\u001b[0m\u001b[0msleep\u001b[0m\u001b[0;34m(\u001b[0m\u001b[0;36m1\u001b[0m\u001b[0;34m)\u001b[0m \u001b[0;31m#przerwa 1s zeby nie zostac zablokowanym\u001b[0m\u001b[0;34m\u001b[0m\u001b[0;34m\u001b[0m\u001b[0m\n\u001b[0m\u001b[1;32m     29\u001b[0m \u001b[0;34m\u001b[0m\u001b[0m\n\u001b[1;32m     30\u001b[0m     \u001b[0;32mdef\u001b[0m \u001b[0mparse_advertisement\u001b[0m\u001b[0;34m(\u001b[0m\u001b[0mself\u001b[0m\u001b[0;34m,\u001b[0m \u001b[0murl\u001b[0m\u001b[0;34m)\u001b[0m\u001b[0;34m:\u001b[0m\u001b[0;34m\u001b[0m\u001b[0;34m\u001b[0m\u001b[0m\n",
            "\u001b[0;31mKeyboardInterrupt\u001b[0m: "
          ]
        }
      ]
    },
    {
      "cell_type": "code",
      "metadata": {
        "id": "hEQiydIoPa7_",
        "colab_type": "code",
        "colab": {
          "base_uri": "https://localhost:8080/",
          "height": 35
        },
        "outputId": "43c6691f-0ea5-46c1-cf17-9b4fc0590541"
      },
      "source": [
        "ls"
      ],
      "execution_count": 67,
      "outputs": [
        {
          "output_type": "stream",
          "text": [
            "data_lento.json  \u001b[0m\u001b[01;34mdrive\u001b[0m/  \u001b[01;34msample_data\u001b[0m/\n"
          ],
          "name": "stdout"
        }
      ]
    },
    {
      "cell_type": "code",
      "metadata": {
        "id": "qZSj_bnSFUnu",
        "colab_type": "code",
        "colab": {
          "base_uri": "https://localhost:8080/",
          "height": 32
        },
        "outputId": "dde65868-322f-45b2-ca7f-bfdff4f7301a"
      },
      "source": [
        "df = pd.read_json('data_lento.json', lines=True)\n",
        "df"
      ],
      "execution_count": 75,
      "outputs": [
        {
          "output_type": "execute_result",
          "data": {
            "text/html": [
              "<div>\n",
              "<style scoped>\n",
              "    .dataframe tbody tr th:only-of-type {\n",
              "        vertical-align: middle;\n",
              "    }\n",
              "\n",
              "    .dataframe tbody tr th {\n",
              "        vertical-align: top;\n",
              "    }\n",
              "\n",
              "    .dataframe thead th {\n",
              "        text-align: right;\n",
              "    }\n",
              "</style>\n",
              "<table border=\"1\" class=\"dataframe\">\n",
              "  <thead>\n",
              "    <tr style=\"text-align: right;\">\n",
              "      <th></th>\n",
              "    </tr>\n",
              "  </thead>\n",
              "  <tbody>\n",
              "  </tbody>\n",
              "</table>\n",
              "</div>"
            ],
            "text/plain": [
              "Empty DataFrame\n",
              "Columns: []\n",
              "Index: []"
            ]
          },
          "metadata": {
            "tags": []
          },
          "execution_count": 75
        }
      ]
    },
    {
      "cell_type": "code",
      "metadata": {
        "id": "PAUpTUPnNa0b",
        "colab_type": "code",
        "colab": {}
      },
      "source": [
        ""
      ],
      "execution_count": 0,
      "outputs": []
    }
  ]
}